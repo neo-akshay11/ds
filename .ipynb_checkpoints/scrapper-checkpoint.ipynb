{
 "cells": [
  {
   "cell_type": "code",
   "execution_count": 6,
   "id": "27b75d27-7efb-4ccf-8293-31edf92978b0",
   "metadata": {},
   "outputs": [],
   "source": [
    "import requests\n",
    "from bs4 import BeautifulSoup\n",
    "from fake_useragent import UserAgent\n",
    "\n",
    "def get_amazon_reviews(asin, max_pages=2):\n",
    "    base_url = \"https://www.amazon.in/product-reviews/\"\n",
    "    headers = {'User-Agent': UserAgent().random}\n",
    "    all_reviews = []\n",
    "\n",
    "    for page in range(1, max_pages + 1):\n",
    "        url = f\"{base_url}{asin}/?pageNumber={page}\"\n",
    "        response = requests.get(url, headers=headers)\n",
    "\n",
    "        if response.status_code != 200:\n",
    "            print(f\"Failed to fetch page {page}\")\n",
    "            continue\n",
    "\n",
    "        soup = BeautifulSoup(response.text, 'html.parser')\n",
    "        reviews = soup.find_all('div', {'data-hook': 'review'})\n",
    "\n",
    "        for review in reviews:\n",
    "            try:\n",
    "                rating = review.find('i', {'data-hook': 'review-star-rating'}).text.strip()\n",
    "                title = review.find('a', {'data-hook': 'review-title'}).text.strip()\n",
    "                body = review.find('span', {'data-hook': 'review-body'}).text.strip()\n",
    "                customer = review.find('span', {'class': 'a-profile-name'}).text.strip()\n",
    "                tag_elems = review.find_all('span', {'class': 'a-size-base review-topic'})\n",
    "                tags = [tag.text.strip() for tag in tag_elems]\n",
    "\n",
    "                all_reviews.append({\n",
    "                    'customer': customer,\n",
    "                    'rating': rating,\n",
    "                    'title': title,\n",
    "                    'body': body,\n",
    "                    'tags': tags\n",
    "                })\n",
    "            except Exception as e:\n",
    "                continue  # Skip any broken or missing data\n",
    "\n",
    "    return all_reviews\n",
    "\n",
    "# Example usage\n",
    "asin = \"B07DJCVTBH\"  # Example ASIN for an iPhone case (you can replace it)\n",
    "reviews = get_amazon_reviews(asin)\n",
    "\n",
    "# Print reviews\n",
    "for r in reviews:\n",
    "    print(f\"Customer: {r['customer']}\")\n",
    "    print(f\"Rating: {r['rating']}\")\n",
    "    print(f\"Title: {r['title']}\")\n",
    "    print(f\"Review: {r['body']}\")\n",
    "    print(f\"Tags: {', '.join(r['tags'])}\")\n",
    "    print(\"=\"*60)"
   ]
  },
  {
   "cell_type": "code",
   "execution_count": 2,
   "id": "966c924b-06af-4497-bae4-0d81b9a8fc04",
   "metadata": {},
   "outputs": [
    {
     "name": "stdout",
     "output_type": "stream",
     "text": [
      "Collecting fake-useragent\n",
      "  Downloading fake_useragent-2.2.0-py3-none-any.whl.metadata (17 kB)\n",
      "Downloading fake_useragent-2.2.0-py3-none-any.whl (161 kB)\n",
      "Installing collected packages: fake-useragent\n",
      "Successfully installed fake-useragent-2.2.0\n",
      "\n",
      "\u001b[1m[\u001b[0m\u001b[34;49mnotice\u001b[0m\u001b[1;39;49m]\u001b[0m\u001b[39;49m A new release of pip is available: \u001b[0m\u001b[31;49m25.0\u001b[0m\u001b[39;49m -> \u001b[0m\u001b[32;49m25.1.1\u001b[0m\n",
      "\u001b[1m[\u001b[0m\u001b[34;49mnotice\u001b[0m\u001b[1;39;49m]\u001b[0m\u001b[39;49m To update, run: \u001b[0m\u001b[32;49m/opt/homebrew/Cellar/jupyterlab/4.4.1_1/libexec/bin/python -m pip install --upgrade pip\u001b[0m\n",
      "Note: you may need to restart the kernel to use updated packages.\n"
     ]
    }
   ],
   "source": [
    "pip install fake-useragent"
   ]
  },
  {
   "cell_type": "code",
   "execution_count": 4,
   "id": "d2e3ff66-2e31-4a91-9241-35ef638fe29b",
   "metadata": {},
   "outputs": [
    {
     "name": "stdout",
     "output_type": "stream",
     "text": [
      "Requirement already satisfied: fake-useragent in /Library/Frameworks/Python.framework/Versions/3.8/lib/python3.8/site-packages (2.0.0)\n",
      "Requirement already satisfied: importlib-resources>=5.0 in /Library/Frameworks/Python.framework/Versions/3.8/lib/python3.8/site-packages (from fake-useragent) (6.1.2)\n",
      "Requirement already satisfied: zipp>=3.1.0 in /Library/Frameworks/Python.framework/Versions/3.8/lib/python3.8/site-packages (from importlib-resources>=5.0->fake-useragent) (3.17.0)\n",
      "\n",
      "\u001b[1m[\u001b[0m\u001b[34;49mnotice\u001b[0m\u001b[1;39;49m]\u001b[0m\u001b[39;49m A new release of pip is available: \u001b[0m\u001b[31;49m24.0\u001b[0m\u001b[39;49m -> \u001b[0m\u001b[32;49m25.0.1\u001b[0m\n",
      "\u001b[1m[\u001b[0m\u001b[34;49mnotice\u001b[0m\u001b[1;39;49m]\u001b[0m\u001b[39;49m To update, run: \u001b[0m\u001b[32;49mpip install --upgrade pip\u001b[0m\n"
     ]
    }
   ],
   "source": [
    "!pip install fake-useragent"
   ]
  },
  {
   "cell_type": "code",
   "execution_count": null,
   "id": "6e22134b-2b07-44f7-b5bf-abf6c5b68e6b",
   "metadata": {},
   "outputs": [],
   "source": []
  }
 ],
 "metadata": {
  "kernelspec": {
   "display_name": "Python 3 (ipykernel)",
   "language": "python",
   "name": "python3"
  },
  "language_info": {
   "codemirror_mode": {
    "name": "ipython",
    "version": 3
   },
   "file_extension": ".py",
   "mimetype": "text/x-python",
   "name": "python",
   "nbconvert_exporter": "python",
   "pygments_lexer": "ipython3",
   "version": "3.13.3"
  }
 },
 "nbformat": 4,
 "nbformat_minor": 5
}
